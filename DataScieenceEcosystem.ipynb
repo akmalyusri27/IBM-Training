{
 "cells": [
  {
   "cell_type": "markdown",
   "id": "3e1c34f4-9498-4747-8145-184809508074",
   "metadata": {},
   "source": [
    "# Data Science Tools and Ecosystem"
   ]
  },
  {
   "cell_type": "markdown",
   "id": "d1df9b8e-26a6-489b-b002-8b12897607a7",
   "metadata": {},
   "source": [
    "In this notebook,Data Science Tools and Ecosystem are summarized."
   ]
  },
  {
   "cell_type": "markdown",
   "id": "286e6125-6d53-4d13-8e26-04053b12f5b1",
   "metadata": {},
   "source": [
    "Some of the popular languages that Data Scientists use are:\n",
    "1. Phython\n",
    "2. R\n",
    "3. SQL"
   ]
  },
  {
   "cell_type": "markdown",
   "id": "17856e4c-2c9f-4cff-997e-8b33a39ba91e",
   "metadata": {},
   "source": [
    "Some of the commonly used libraries used by Data Scientists include:\n",
    "1. Pandas\n",
    "2. NUmpy\n",
    "3. Matplotlib"
   ]
  },
  {
   "cell_type": "markdown",
   "id": "081ee78a-7580-49fa-9a07-e0d3a369f656",
   "metadata": {},
   "source": [
    "Data Science Tools\n",
    "|Tools|\n",
    "|-----|\n",
    "|Python|\n",
    "|R|\n",
    "|Github|"
   ]
  },
  {
   "cell_type": "markdown",
   "id": "0b844e61-0661-4868-9392-62c1eaf856a4",
   "metadata": {},
   "source": [
    "### Below are a few examples of evaluating arithmetic expression in python"
   ]
  },
  {
   "cell_type": "code",
   "execution_count": 14,
   "id": "876da2af-1a7c-47d4-9ca6-0b6121ebc7fe",
   "metadata": {},
   "outputs": [
    {
     "data": {
      "text/plain": [
       "17"
      ]
     },
     "execution_count": 14,
     "metadata": {},
     "output_type": "execute_result"
    }
   ],
   "source": [
    "#this is a simple arithmetic expression to multiply and then add integers\n",
    "(3*4)+5"
   ]
  },
  {
   "cell_type": "code",
   "execution_count": 15,
   "id": "b70c841e-c84b-4cbd-89f4-74c83d986d06",
   "metadata": {},
   "outputs": [
    {
     "data": {
      "text/plain": [
       "3.3333333333333335"
      ]
     },
     "execution_count": 15,
     "metadata": {},
     "output_type": "execute_result"
    }
   ],
   "source": [
    "#this will convert 200 minutes to hours by dividing by 60\n",
    "200/60"
   ]
  },
  {
   "cell_type": "markdown",
   "id": "0280207b-13ea-4c9a-993c-2f111c48a289",
   "metadata": {},
   "source": [
    "**Objectives**\n",
    "- pyhton\n",
    "- SQL\n",
    "- R"
   ]
  },
  {
   "cell_type": "markdown",
   "id": "0b6eb83c-bc5f-4ba9-bdc8-e18221400b25",
   "metadata": {},
   "source": [
    "## Author\n",
    "Akmal\n"
   ]
  },
  {
   "cell_type": "code",
   "execution_count": null,
   "id": "912abec0-cef2-4965-9ee8-e8d1e30a0786",
   "metadata": {},
   "outputs": [],
   "source": []
  }
 ],
 "metadata": {
  "kernelspec": {
   "display_name": "Python 3 (ipykernel)",
   "language": "python",
   "name": "python3"
  },
  "language_info": {
   "codemirror_mode": {
    "name": "ipython",
    "version": 3
   },
   "file_extension": ".py",
   "mimetype": "text/x-python",
   "name": "python",
   "nbconvert_exporter": "python",
   "pygments_lexer": "ipython3",
   "version": "3.11.7"
  }
 },
 "nbformat": 4,
 "nbformat_minor": 5
}
